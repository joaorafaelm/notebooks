{
  "nbformat": 4,
  "nbformat_minor": 0,
  "metadata": {
    "colab": {
      "name": " DP:hello_bot.ipynb",
      "provenance": [],
      "collapsed_sections": [],
      "include_colab_link": true
    },
    "kernelspec": {
      "display_name": "Python 3",
      "language": "python",
      "name": "python3"
    },
    "language_info": {
      "codemirror_mode": {
        "name": "ipython",
        "version": 3
      },
      "file_extension": ".py",
      "mimetype": "text/x-python",
      "name": "python",
      "nbconvert_exporter": "python",
      "pygments_lexer": "ipython3",
      "version": "3.6.4"
    }
  },
  "cells": [
    {
      "cell_type": "markdown",
      "metadata": {
        "id": "view-in-github",
        "colab_type": "text"
      },
      "source": [
        "<a href=\"https://colab.research.google.com/github/joaorafaelm/notebooks/blob/master/DP_hello_bot.ipynb\" target=\"_parent\"><img src=\"https://colab.research.google.com/assets/colab-badge.svg\" alt=\"Open In Colab\"/></a>"
      ]
    },
    {
      "cell_type": "markdown",
      "metadata": {
        "colab_type": "text",
        "id": "b1ncTZNSDi-e"
      },
      "source": [
        "# DeepPavlov: Hello bot!\n",
        "\n",
        "\n",
        "This notebook contains essential information on how to a build pattern-matching chat-bot with the [DeepPavlov](https://github.com/deepmipt/DeepPavlov) framework. DeepPavlov is an open-source conversational AI framework. Before delving into the code it would be useful to explain at a high level how DeepPavlov works. \n",
        "\n",
        "The smallest building block of the library is **Component**. Component stands for any kind of function in an NLP pipeline. It can be implemented as a neural network, a non-neural ML model or a rule-based system. Besides that, Component can have a nested structure, i.e. Component can include other Components.\n",
        "\n",
        "Components can be joined into **Skill**. Skill solves a larger NLP task compared to Component. However, in terms of implementation Skills are not different from Components. \n",
        "\n",
        "**Agent** is supposed to be a multi-purpose dialogue system that comprises several Skills and can switch between them. It can be a dialogue system that contains a goal-oriented and chatbot skills and chooses which one to use for generating the answer depending on an user input.\n",
        "\n",
        "Now you know enough theory to implement an introductory level chatbot with the open-source DeepPavlov framework."
      ]
    },
    {
      "cell_type": "markdown",
      "metadata": {
        "colab_type": "text",
        "id": "koWvWtkyE6cz"
      },
      "source": [
        "# Requirements\n",
        "\n",
        "First, install all required packages"
      ]
    },
    {
      "cell_type": "code",
      "metadata": {
        "colab_type": "code",
        "id": "YAM0K6D0E7OJ",
        "colab": {}
      },
      "source": [
        "!pip install deeppavlov"
      ],
      "execution_count": null,
      "outputs": []
    },
    {
      "cell_type": "markdown",
      "metadata": {
        "colab_type": "text",
        "id": "8AHT9VCPFCmX"
      },
      "source": [
        "# Hello bot!"
      ]
    },
    {
      "cell_type": "markdown",
      "metadata": {
        "colab_type": "text",
        "id": "SLD0l8RRDi-m"
      },
      "source": [
        "Possibly the most delightful part of discovering a new programming framework is the \"Hello, world!\" example. Our HelloBot will be able to recognize a greetings message and reply with * \"Hello world!\"* In addition, upon receiving a goodbye message, it will respond with one of the predefined goodbye messages.  Otherwise, it will reply with the message *\"I don’t understand, sorry\"*."
      ]
    },
    {
      "cell_type": "code",
      "metadata": {
        "colab_type": "code",
        "id": "9MF7LQ51Di-n",
        "colab": {}
      },
      "source": [
        "from deeppavlov.skills.pattern_matching_skill import PatternMatchingSkill\n",
        "from deeppavlov.agents.default_agent.default_agent import DefaultAgent\n",
        "from deeppavlov.agents.processors.highest_confidence_selector import HighestConfidenceSelector"
      ],
      "execution_count": null,
      "outputs": []
    },
    {
      "cell_type": "markdown",
      "metadata": {
        "colab_type": "text",
        "id": "UPIvQ3KEDi-r"
      },
      "source": [
        "Then create Skills with corresponding patterns and predefined responses.\n",
        "\n"
      ]
    },
    {
      "cell_type": "code",
      "metadata": {
        "colab_type": "code",
        "id": "m0Gs3NqeDi-s",
        "colab": {}
      },
      "source": [
        "hello = PatternMatchingSkill(responses=['Hello world!'], patterns=[\"hi\", \"hello\", \"good day\"])\n",
        "bye = PatternMatchingSkill(['Goodbye world!', 'See you around'], patterns=[\"bye\", \"chao\", \"see you\"])\n",
        "fallback = PatternMatchingSkill([\"I don't understand, sorry\"])"
      ],
      "execution_count": null,
      "outputs": []
    },
    {
      "cell_type": "markdown",
      "metadata": {
        "colab_type": "text",
        "id": "F8zEWcn-Di-v"
      },
      "source": [
        "The Agent executes Skills and then takes the highest-confidence responses from them.\n"
      ]
    },
    {
      "cell_type": "code",
      "metadata": {
        "colab_type": "code",
        "id": "mJ5NIu4MDi-x",
        "colab": {}
      },
      "source": [
        "agent = DefaultAgent([hello, bye, fallback], skills_selector=HighestConfidenceSelector())"
      ],
      "execution_count": null,
      "outputs": []
    },
    {
      "cell_type": "markdown",
      "metadata": {
        "colab_type": "text",
        "id": "oHIZ5X7WDi-z"
      },
      "source": [
        "Give the floor to the HelloBot!"
      ]
    },
    {
      "cell_type": "code",
      "metadata": {
        "colab_type": "code",
        "id": "NwvROayNDi-1",
        "colab": {},
        "outputId": "68fffe7a-ea34-4aa9-e701-49df08f3e2fc"
      },
      "source": [
        "agent(['HellSo deAR', 'Bye', 'Or not'])"
      ],
      "execution_count": null,
      "outputs": [
        {
          "output_type": "execute_result",
          "data": {
            "text/plain": [
              "[\"I don't understand, sorry\", 'See you around', \"I don't understand, sorry\"]"
            ]
          },
          "metadata": {
            "tags": []
          },
          "execution_count": 7
        }
      ]
    },
    {
      "cell_type": "markdown",
      "metadata": {
        "colab_type": "text",
        "id": "IXJeRGjWIwib"
      },
      "source": [
        "In addition to the exact text matching, our framework supports regular expressions."
      ]
    },
    {
      "cell_type": "code",
      "metadata": {
        "colab_type": "code",
        "id": "LIHCRCM0Ihvw",
        "colab": {}
      },
      "source": [
        "hello = PatternMatchingSkill(responses=[\"Hello world!\"], patterns=[\"(hi|hello|good day)\"], regex = True)\n",
        "sorry = PatternMatchingSkill(responses=[\"don’t be sorry\", \"Please don’t\"], patterns=[\"(sorry|excuse)\"], regex = True)\n",
        "perhaps = PatternMatchingSkill(responses=[\"Please be more specific\"], patterns=[\"(.*)perhaps(.*)\"], regex = True)\n",
        "\n",
        "agent = DefaultAgent([hello, sorry, perhaps], skills_selector=HighestConfidenceSelector())\n",
        "agent(['hi, how are you', 'I am sorry', 'perhaps I am not sure'])"
      ],
      "execution_count": null,
      "outputs": []
    },
    {
      "cell_type": "markdown",
      "metadata": {
        "colab_type": "text",
        "id": "bpRVgfN2GkvA"
      },
      "source": [
        "Do not hesitate to add more Skills in the same manner. Now you know how to create simple rule-based chatbots by using the DeepPavlov framework. In the next article, we will describe techniques that will help you develop more advanced chatbots.\n"
      ]
    },
    {
      "cell_type": "markdown",
      "metadata": {
        "colab_type": "text",
        "id": "t4YWv_96Ftdv"
      },
      "source": [
        "# Useful links\n",
        "\n",
        "[DeepPavlov repository](https://github.com/deepmipt/DeepPavlov)\n",
        "\n",
        "[DeepPavlov demo page](https://demo.ipavlov.ai)\n",
        "\n",
        "[DeepPavlov documentation](https://docs.deeppavlov.ai)"
      ]
    }
  ]
}
