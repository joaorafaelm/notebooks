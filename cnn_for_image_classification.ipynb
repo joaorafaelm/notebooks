{
  "nbformat": 4,
  "nbformat_minor": 0,
  "metadata": {
    "colab": {
      "name": "cnn for image classification",
      "provenance": [],
      "collapsed_sections": [],
      "authorship_tag": "ABX9TyMnfuH/eJr/QhbdpoDyw803",
      "include_colab_link": true
    },
    "kernelspec": {
      "name": "python3",
      "display_name": "Python 3"
    }
  },
  "cells": [
    {
      "cell_type": "markdown",
      "metadata": {
        "id": "view-in-github",
        "colab_type": "text"
      },
      "source": [
        "<a href=\"https://colab.research.google.com/github/joaorafaelm/notebooks/blob/master/cnn_for_image_classification.ipynb\" target=\"_parent\"><img src=\"https://colab.research.google.com/assets/colab-badge.svg\" alt=\"Open In Colab\"/></a>"
      ]
    },
    {
      "cell_type": "markdown",
      "metadata": {
        "id": "54vAHn--SNx6",
        "colab_type": "text"
      },
      "source": [
        "# Convolutional Neural networks for image classification\n"
      ]
    },
    {
      "cell_type": "code",
      "metadata": {
        "id": "FVY_t3d1STLF",
        "colab_type": "code",
        "colab": {}
      },
      "source": [
        "import pandas as pd\n",
        "import numpy as np\n",
        "import matplotlib.pyplot as plt\n",
        "from tensorflow.keras.datasets import mnist\n",
        "from tensorflow.keras.utils import to_categorical\n",
        "from tensorflow.keras.models import Sequential\n",
        "from tensorflow.keras.layers import Dense, Conv2D, MaxPool2D, Flatten\n",
        "from tensorflow.keras.callbacks import EarlyStopping\n",
        "from sklearn.metrics import classification_report,confusion_matrix"
      ],
      "execution_count": 43,
      "outputs": []
    },
    {
      "cell_type": "markdown",
      "metadata": {
        "id": "Zr6nhVFuT-qN",
        "colab_type": "text"
      },
      "source": [
        "## mnist dataset"
      ]
    },
    {
      "cell_type": "code",
      "metadata": {
        "id": "caIcZ2NJSn_w",
        "colab_type": "code",
        "colab": {
          "base_uri": "https://localhost:8080/",
          "height": 34
        },
        "cellView": "both",
        "outputId": "73c33274-f584-4e76-c06b-f4cf7c295f1c"
      },
      "source": [
        "(x_train, y_train), (x_test, y_test) = mnist.load_data()\n",
        "\"dataset shape\", x_train.shape"
      ],
      "execution_count": 11,
      "outputs": [
        {
          "output_type": "execute_result",
          "data": {
            "text/plain": [
              "('dataset shape', (60000, 28, 28))"
            ]
          },
          "metadata": {
            "tags": []
          },
          "execution_count": 11
        }
      ]
    },
    {
      "cell_type": "markdown",
      "metadata": {
        "id": "tY8H3y75T76l",
        "colab_type": "text"
      },
      "source": [
        "## single image"
      ]
    },
    {
      "cell_type": "code",
      "metadata": {
        "id": "ZHM6bDE3S8QC",
        "colab_type": "code",
        "colab": {
          "base_uri": "https://localhost:8080/",
          "height": 282
        },
        "outputId": "ccc1c8d2-ca35-46d7-aabd-d3489033b52f"
      },
      "source": [
        "single_image = x_train[0]\n",
        "plt.imshow(single_image)\n",
        "\"single image shape\", single_image.shape"
      ],
      "execution_count": 13,
      "outputs": [
        {
          "output_type": "execute_result",
          "data": {
            "text/plain": [
              "('single image shape', (28, 28))"
            ]
          },
          "metadata": {
            "tags": []
          },
          "execution_count": 13
        },
        {
          "output_type": "display_data",
          "data": {
            "image/png": "[encoded data removed]",
            "text/plain": [
              "<Figure size 432x288 with 1 Axes>"
            ]
          },
          "metadata": {
            "tags": [],
            "needs_background": "light"
          }
        }
      ]
    },
    {
      "cell_type": "markdown",
      "metadata": {
        "id": "lE5jy-PWUHcD",
        "colab_type": "text"
      },
      "source": [
        "## label\n"
      ]
    },
    {
      "cell_type": "code",
      "metadata": {
        "id": "ElRxnsJhUJp1",
        "colab_type": "code",
        "colab": {}
      },
      "source": [
        "y_cat_test = to_categorical(y_test,10)\n",
        "y_cat_train = to_categorical(y_train,10)"
      ],
      "execution_count": 20,
      "outputs": []
    },
    {
      "cell_type": "markdown",
      "metadata": {
        "id": "1rGRkT2rVEO4",
        "colab_type": "text"
      },
      "source": [
        "# normalize"
      ]
    },
    {
      "cell_type": "code",
      "metadata": {
        "id": "fXdJKAvtVDm-",
        "colab_type": "code",
        "colab": {
          "base_uri": "https://localhost:8080/",
          "height": 282
        },
        "outputId": "70e21c36-ec01-42d6-9071-fac07acb0b0c"
      },
      "source": [
        "print(\"max and min values\", single_image.max(), single_image.min())\n",
        "x_train = x_train/255\n",
        "x_test = x_test/255\n",
        "plt.imshow(x_train[0]);"
      ],
      "execution_count": 30,
      "outputs": [
        {
          "output_type": "stream",
          "text": [
            "max and min values 255 0\n"
          ],
          "name": "stdout"
        },
        {
          "output_type": "display_data",
          "data": {
            "image/png": "[encoded data removed]",
            "text/plain": [
              "<Figure size 432x288 with 1 Axes>"
            ]
          },
          "metadata": {
            "tags": [],
            "needs_background": "light"
          }
        }
      ]
    },
    {
      "cell_type": "markdown",
      "metadata": {
        "id": "Xf0DaLovWKEa",
        "colab_type": "text"
      },
      "source": [
        "# rescale to include dimension "
      ]
    },
    {
      "cell_type": "code",
      "metadata": {
        "id": "NPZ7tP23WOG9",
        "colab_type": "code",
        "colab": {}
      },
      "source": [
        "x_train = x_train.reshape(60000, 28, 28, 1)\n",
        "x_test = x_test.reshape(10000, 28, 28, 1)"
      ],
      "execution_count": 38,
      "outputs": []
    },
    {
      "cell_type": "markdown",
      "metadata": {
        "id": "TB0Rh-t7WZN6",
        "colab_type": "text"
      },
      "source": [
        "## model"
      ]
    },
    {
      "cell_type": "code",
      "metadata": {
        "id": "KfS9mLf3WcTj",
        "colab_type": "code",
        "colab": {
          "base_uri": "https://localhost:8080/",
          "height": 329
        },
        "outputId": "86ad00b1-26e4-4956-d32e-f1af551e1753"
      },
      "source": [
        "model = Sequential()\n",
        "\n",
        "# CONVOLUTIONAL LAYER\n",
        "model.add(\n",
        "    Conv2D(\n",
        "        filters=32, kernel_size=(4, 4),\n",
        "        input_shape=(28, 28, 1), activation=\"relu\",\n",
        "    )\n",
        ")\n",
        "\n",
        "# POOLING LAYER\n",
        "model.add(MaxPool2D(pool_size=(2, 2)))\n",
        "\n",
        "# FLATTEN IMAGES FROM 28 by 28 to 764 BEFORE FINAL LAYER\n",
        "model.add(Flatten())\n",
        "\n",
        "# 128 NEURONS IN DENSE HIDDEN LAYER (YOU CAN CHANGE THIS NUMBER OF NEURONS)\n",
        "model.add(Dense(128, activation=\"relu\"))\n",
        "\n",
        "# LAST LAYER IS THE CLASSIFIER, THUS 10 POSSIBLE CLASSES\n",
        "model.add(Dense(10, activation=\"softmax\"))\n",
        "\n",
        "# https://keras.io/metrics/\n",
        "model.compile(\n",
        "    loss=\"categorical_crossentropy\",\n",
        "    optimizer=\"adam\",\n",
        "    metrics=[\"accuracy\"]\n",
        ")\n",
        "\n",
        "model.summary()"
      ],
      "execution_count": 39,
      "outputs": [
        {
          "output_type": "stream",
          "text": [
            "Model: \"sequential_2\"\n",
            "_________________________________________________________________\n",
            "Layer (type)                 Output Shape              Param #   \n",
            "=================================================================\n",
            "conv2d_2 (Conv2D)            (None, 25, 25, 32)        544       \n",
            "_________________________________________________________________\n",
            "max_pooling2d_2 (MaxPooling2 (None, 12, 12, 32)        0         \n",
            "_________________________________________________________________\n",
            "flatten_2 (Flatten)          (None, 4608)              0         \n",
            "_________________________________________________________________\n",
            "dense_4 (Dense)              (None, 128)               589952    \n",
            "_________________________________________________________________\n",
            "dense_5 (Dense)              (None, 10)                1290      \n",
            "=================================================================\n",
            "Total params: 591,786\n",
            "Trainable params: 591,786\n",
            "Non-trainable params: 0\n",
            "_________________________________________________________________\n"
          ],
          "name": "stdout"
        }
      ]
    },
    {
      "cell_type": "markdown",
      "metadata": {
        "id": "YHtWbDZhW2yL",
        "colab_type": "text"
      },
      "source": [
        "## train"
      ]
    },
    {
      "cell_type": "code",
      "metadata": {
        "id": "THrsy5iYW2S8",
        "colab_type": "code",
        "colab": {
          "base_uri": "https://localhost:8080/",
          "height": 381
        },
        "outputId": "b079e39d-5d54-4783-da88-69fbc13bd319"
      },
      "source": [
        "early_stop = EarlyStopping(monitor=\"val_loss\", patience=2)\n",
        "model.fit(\n",
        "    x_train,y_cat_train,\n",
        "    epochs=10,\n",
        "    validation_data=(x_test, y_cat_test),\n",
        "    callbacks=[early_stop]\n",
        ")"
      ],
      "execution_count": 40,
      "outputs": [
        {
          "output_type": "stream",
          "text": [
            "Epoch 1/10\n",
            "1875/1875 [==============================] - 34s 18ms/step - loss: 0.7344 - accuracy: 0.7804 - val_loss: 0.3335 - val_accuracy: 0.9028\n",
            "Epoch 2/10\n",
            "1875/1875 [==============================] - 34s 18ms/step - loss: 0.3112 - accuracy: 0.9065 - val_loss: 0.2580 - val_accuracy: 0.9233\n",
            "Epoch 3/10\n",
            "1875/1875 [==============================] - 33s 18ms/step - loss: 0.2508 - accuracy: 0.9247 - val_loss: 0.2121 - val_accuracy: 0.9379\n",
            "Epoch 4/10\n",
            "1875/1875 [==============================] - 33s 18ms/step - loss: 0.2090 - accuracy: 0.9371 - val_loss: 0.1843 - val_accuracy: 0.9455\n",
            "Epoch 5/10\n",
            "1875/1875 [==============================] - 33s 18ms/step - loss: 0.1800 - accuracy: 0.9471 - val_loss: 0.1663 - val_accuracy: 0.9503\n",
            "Epoch 6/10\n",
            "1875/1875 [==============================] - 33s 18ms/step - loss: 0.1597 - accuracy: 0.9525 - val_loss: 0.1472 - val_accuracy: 0.9568\n",
            "Epoch 7/10\n",
            "1875/1875 [==============================] - 33s 18ms/step - loss: 0.1451 - accuracy: 0.9570 - val_loss: 0.1330 - val_accuracy: 0.9618\n",
            "Epoch 8/10\n",
            "1875/1875 [==============================] - 34s 18ms/step - loss: 0.1334 - accuracy: 0.9605 - val_loss: 0.1270 - val_accuracy: 0.9629\n",
            "Epoch 9/10\n",
            "1875/1875 [==============================] - 34s 18ms/step - loss: 0.1242 - accuracy: 0.9629 - val_loss: 0.1270 - val_accuracy: 0.9631\n",
            "Epoch 10/10\n",
            "1875/1875 [==============================] - 33s 18ms/step - loss: 0.1168 - accuracy: 0.9650 - val_loss: 0.1180 - val_accuracy: 0.9652\n"
          ],
          "name": "stdout"
        },
        {
          "output_type": "execute_result",
          "data": {
            "text/plain": [
              "<tensorflow.python.keras.callbacks.History at 0x7fa64acfa588>"
            ]
          },
          "metadata": {
            "tags": []
          },
          "execution_count": 40
        }
      ]
    },
    {
      "cell_type": "markdown",
      "metadata": {
        "id": "YLqmZLevX67V",
        "colab_type": "text"
      },
      "source": [
        "## Evaluation"
      ]
    },
    {
      "cell_type": "code",
      "metadata": {
        "id": "1NIX-MuLX9jd",
        "colab_type": "code",
        "colab": {
          "base_uri": "https://localhost:8080/",
          "height": 548
        },
        "outputId": "7568308e-945e-4573-a1a5-6e0e7d3d49e7"
      },
      "source": [
        "losses = pd.DataFrame(model.history.history)\n",
        "losses[[\"accuracy\",\"val_accuracy\"]].plot()\n",
        "losses[[\"loss\",\"val_loss\"]].plot()\n",
        "print(model.metrics_names)\n",
        "print(model.evaluate(x_test, y_cat_test, verbose=0))"
      ],
      "execution_count": 44,
      "outputs": [
        {
          "output_type": "stream",
          "text": [
            "['loss', 'accuracy']\n",
            "[0.11802619695663452, 0.9652000069618225]\n"
          ],
          "name": "stdout"
        },
        {
          "output_type": "display_data",
          "data": {
            "image/png": "[encoded data removed]",
            "text/plain": [
              "<Figure size 432x288 with 1 Axes>"
            ]
          },
          "metadata": {
            "tags": [],
            "needs_background": "light"
          }
        },
        {
          "output_type": "display_data",
          "data": {
            "image/png": "[encoded data removed]",
            "text/plain": [
              "<Figure size 432x288 with 1 Axes>"
            ]
          },
          "metadata": {
            "tags": [],
            "needs_background": "light"
          }
        }
      ]
    },
    {
      "cell_type": "code",
      "metadata": {
        "id": "TTirpJpsY6fd",
        "colab_type": "code",
        "colab": {
          "base_uri": "https://localhost:8080/",
          "height": 384
        },
        "outputId": "fb35c3b5-4dea-4394-8e41-ba64d18a1183"
      },
      "source": [
        "predictions = model.predict_classes(x_test)\n",
        "print(classification_report(y_test, predictions))"
      ],
      "execution_count": 45,
      "outputs": [
        {
          "output_type": "stream",
          "text": [
            "WARNING:tensorflow:From <ipython-input-45-1eb0c0de231a>:1: Sequential.predict_classes (from tensorflow.python.keras.engine.sequential) is deprecated and will be removed after 2021-01-01.\n",
            "Instructions for updating:\n",
            "Please use instead:* `np.argmax(model.predict(x), axis=-1)`,   if your model does multi-class classification   (e.g. if it uses a `softmax` last-layer activation).* `(model.predict(x) > 0.5).astype(\"int32\")`,   if your model does binary classification   (e.g. if it uses a `sigmoid` last-layer activation).\n",
            "              precision    recall  f1-score   support\n",
            "\n",
            "           0       0.99      0.99      0.99       980\n",
            "           1       0.98      0.99      0.99      1135\n",
            "           2       0.96      0.97      0.96      1032\n",
            "           3       0.94      0.96      0.95      1010\n",
            "           4       0.97      0.96      0.97       982\n",
            "           5       0.98      0.93      0.95       892\n",
            "           6       0.98      0.97      0.98       958\n",
            "           7       0.95      0.97      0.96      1028\n",
            "           8       0.94      0.96      0.95       974\n",
            "           9       0.96      0.94      0.95      1009\n",
            "\n",
            "    accuracy                           0.97     10000\n",
            "   macro avg       0.97      0.96      0.96     10000\n",
            "weighted avg       0.97      0.97      0.97     10000\n",
            "\n"
          ],
          "name": "stdout"
        }
      ]
    },
    {
      "cell_type": "code",
      "metadata": {
        "id": "OhCu-fLDY5q1",
        "colab_type": "code",
        "colab": {
          "base_uri": "https://localhost:8080/",
          "height": 190
        },
        "outputId": "93a9eca8-eac6-410c-9f71-bf13f184b3c7"
      },
      "source": [
        "confusion_matrix(y_test,predictions)"
      ],
      "execution_count": 46,
      "outputs": [
        {
          "output_type": "execute_result",
          "data": {
            "text/plain": [
              "array([[ 967,    0,    1,    1,    1,    2,    2,    2,    1,    3],\n",
              "       [   0, 1122,    2,    1,    0,    1,    1,    5,    3,    0],\n",
              "       [   5,    1,  996,    8,    4,    0,    2,    7,    9,    0],\n",
              "       [   0,    2,    8,  973,    1,    2,    0,   12,    8,    4],\n",
              "       [   0,    0,    7,    0,  945,    0,    2,    4,    2,   22],\n",
              "       [   2,    3,    0,   20,    1,  834,    6,    3,   19,    4],\n",
              "       [   3,    4,    1,    2,    4,    6,  932,    0,    6,    0],\n",
              "       [   0,    5,   12,    2,    2,    1,    0,  996,    1,    9],\n",
              "       [   1,    0,    6,   13,    6,    5,    3,    2,  937,    1],\n",
              "       [   3,    6,    2,   12,   11,    4,    1,   13,    7,  950]])"
            ]
          },
          "metadata": {
            "tags": []
          },
          "execution_count": 46
        }
      ]
    },
    {
      "cell_type": "markdown",
      "metadata": {
        "id": "VmaUSohYY9Pa",
        "colab_type": "text"
      },
      "source": [
        "## Test"
      ]
    },
    {
      "cell_type": "code",
      "metadata": {
        "id": "jp3kp_15Y_V5",
        "colab_type": "code",
        "colab": {
          "base_uri": "https://localhost:8080/",
          "height": 282
        },
        "outputId": "68e089dd-7de4-4a06-ade4-e1fd9df2bc3d"
      },
      "source": [
        "my_number = x_test[0]\n",
        "plt.imshow(my_number.reshape(28,28))\n",
        "model.predict_classes(my_number.reshape(1,28,28,1))"
      ],
      "execution_count": 47,
      "outputs": [
        {
          "output_type": "execute_result",
          "data": {
            "text/plain": [
              "array([7])"
            ]
          },
          "metadata": {
            "tags": []
          },
          "execution_count": 47
        },
        {
          "output_type": "display_data",
          "data": {
            "image/png": "[encoded data removed]",
            "text/plain": [
              "<Figure size 432x288 with 1 Axes>"
            ]
          },
          "metadata": {
            "tags": [],
            "needs_background": "light"
          }
        }
      ]
    }
  ]
}