{
  "nbformat": 4,
  "nbformat_minor": 0,
  "metadata": {
    "colab": {
      "name": "Cognitive complexity",
      "provenance": [],
      "collapsed_sections": [],
      "include_colab_link": true
    },
    "kernelspec": {
      "name": "python3",
      "display_name": "Python 3"
    }
  },
  "cells": [
    {
      "cell_type": "markdown",
      "metadata": {
        "id": "view-in-github",
        "colab_type": "text"
      },
      "source": [
        "<a href=\"https://colab.research.google.com/github/joaorafaelm/notebooks/blob/master/Cognitive_complexity.ipynb\" target=\"_parent\"><img src=\"https://colab.research.google.com/assets/colab-badge.svg\" alt=\"Open In Colab\"/></a>"
      ]
    },
    {
      "cell_type": "code",
      "metadata": {
        "id": "OGtE11woZ2Of",
        "cellView": "form"
      },
      "source": [
        "#@title install dependencies & define utils\n",
        "%%capture\n",
        "!pip install -q cognitive_complexity astunparse tabulate\n",
        "import ast\n",
        "import astunparse\n",
        "from inspect import getsource\n",
        "from tabulate import tabulate\n",
        "from cognitive_complexity.api import get_cognitive_complexity_for_node\n",
        "from cognitive_complexity.utils.ast import has_recursive_calls, is_decorator, process_child_nodes, process_node_itself\n",
        "\n",
        "def get_cognitive_complexity(func):\n",
        "    func = func if isinstance(func, str) else getsource(func)\n",
        "    funcdef = ast.parse(func).body[0]\n",
        "    if is_decorator(funcdef):\n",
        "        return get_cognitive_complexity(funcdef.body[0])\n",
        "\n",
        "    details = []\n",
        "    complexity = 0\n",
        "    for node in funcdef.body:\n",
        "        node_complexity = get_cognitive_complexity_for_node(node)\n",
        "        complexity += node_complexity\n",
        "        node_code = astunparse.unparse(node)\n",
        "        if f\"{funcdef.name}(\" in node_code: # +1 for recursion\n",
        "            node_complexity += 1\n",
        "            complexity += 1\n",
        "        details.append([node_complexity, node_code])\n",
        "    details.append([complexity, \"Total\"])\n",
        "    return complexity, details"
      ],
      "execution_count": 1,
      "outputs": []
    },
    {
      "cell_type": "markdown",
      "metadata": {
        "id": "w4CYS8zcQ3oK"
      },
      "source": [
        "# Cognitive complexity"
      ]
    },
    {
      "cell_type": "markdown",
      "metadata": {
        "id": "RZYMUfmS8yRS"
      },
      "source": [
        "###Introduction\n",
        "Formulated in a Fortran environment in 1976, Cyclomatic Complexity has long been the standard for measuring the complexity of a method’s control flow. It was originally intended “to identify\n",
        "software modules that will be difficult to test or maintain”, but while **it accurately calculates\n",
        "the minimum number of test cases required to fully cover a method, it is not a satisfactory\n",
        "measure of understandability** and it also doesn’t include modern language structures like try/catch,\n",
        "and lambdas."
      ]
    },
    {
      "cell_type": "markdown",
      "metadata": {
        "id": "P7Zhmn4N2vpz"
      },
      "source": [
        "###Basic criteria and methodology\n",
        "As a remedy for these problems, Cognitive Complexity has been formulated to address\n",
        "modern language structures, and to produce values that are meaningful at the class and\n",
        "application levels.\n",
        "A Cognitive Complexity score is assessed according to three basic rules:\n",
        "1. Ignore structures that allow multiple statements to be readably shorthanded into one\n",
        "2. Increment (add one) for each break in the linear flow of the code\n",
        "3. Increment when flow-breaking structures are nested\n",
        "Additionally, a complexity score is made up of four different types of increments:\n",
        "\n",
        "  A. Nesting - assessed for nesting control flow structures inside each other\n",
        "\n",
        "  B. Structural - assessed on control flow structures that are subject to a nesting\n",
        "increment, and that increase the nesting count\n",
        "\n",
        "  C. Fundamental - assessed on statements not subject to a nesting increment\n",
        "  \n",
        "  D. Hybrid - assessed on control flow structures that are not subject to a nesting\n",
        "increment, but which do increase the nesting count"
      ]
    },
    {
      "cell_type": "code",
      "metadata": {
        "colab": {
          "base_uri": "https://localhost:8080/"
        },
        "id": "pEpt2PaJb2gX",
        "outputId": "f92914b0-64e9-46f6-ce4e-f13a17347c13"
      },
      "source": [
        "def f(n):\n",
        "    if n > 10:\n",
        "        return True\n",
        "    if n < 5:\n",
        "        return 20\n",
        "    else:\n",
        "        return 2\n",
        "    return f(n)\n",
        "\n",
        "total, details = get_cognitive_complexity(f)\n",
        "print(tabulate(details, headers=[\"Complexity\", \"Node\"], tablefmt=\"fancy_grid\"))"
      ],
      "execution_count": 2,
      "outputs": [
        {
          "output_type": "stream",
          "text": [
            "╒══════════════╤═════════════════╕\n",
            "│   Complexity │ Node            │\n",
            "╞══════════════╪═════════════════╡\n",
            "│            1 │ if (n > 10):    │\n",
            "│              │     return True │\n",
            "├──────────────┼─────────────────┤\n",
            "│            2 │ if (n < 5):     │\n",
            "│              │     return 20   │\n",
            "│              │ else:           │\n",
            "│              │     return 2    │\n",
            "├──────────────┼─────────────────┤\n",
            "│            1 │ return f(n)     │\n",
            "├──────────────┼─────────────────┤\n",
            "│            4 │ Total           │\n",
            "╘══════════════╧═════════════════╛\n"
          ],
          "name": "stdout"
        }
      ]
    },
    {
      "cell_type": "markdown",
      "metadata": {
        "id": "_64GReVbJj1z"
      },
      "source": [
        "# References\n",
        "\n",
        "* [Cognitive Complexity, Because Testability != Understandability](https://blog.sonarsource.com/cognitive-complexity-because-testability-understandability)\n",
        "\n",
        "* [Cognitive Complexity: A new way of measuring understandability, white paper by G. Ann Campbell](https://www.sonarsource.com/docs/CognitiveComplexity.pdf)\n",
        "\n",
        "* [Cognitive Complexity: the New Guide to Refactoring for Maintainable Code](https://www.youtube.com/watch?v=5C6AGTlKSjY)\n",
        "\n",
        "* [Cognitive Complexity from CodeClimate docs](https://docs.codeclimate.com/docs/cognitive-complexity)\n",
        "\n",
        "* [Is Your Code Readable By Humans? Cognitive Complexity Tells You](https://www.tomasvotruba.cz/blog/2018/05/21/is-your-code-readable-by-humans-cognitive-complexity-tells-you/)"
      ]
    }
  ]
}