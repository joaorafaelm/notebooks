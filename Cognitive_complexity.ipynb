{
  "nbformat": 4,
  "nbformat_minor": 0,
  "metadata": {
    "colab": {
      "name": "Cognitive complexity",
      "provenance": [],
      "collapsed_sections": [],
      "authorship_tag": "ABX9TyNWnvxLBwMQxJt8j4E/fLDi",
      "include_colab_link": true
    },
    "kernelspec": {
      "name": "python3",
      "display_name": "Python 3"
    }
  },
  "cells": [
    {
      "cell_type": "markdown",
      "metadata": {
        "id": "view-in-github",
        "colab_type": "text"
      },
      "source": [
        "<a href=\"https://colab.research.google.com/github/joaorafaelm/notebooks/blob/master/Cognitive_complexity.ipynb\" target=\"_parent\"><img src=\"https://colab.research.google.com/assets/colab-badge.svg\" alt=\"Open In Colab\"/></a>"
      ]
    },
    {
      "cell_type": "code",
      "metadata": {
        "cellView": "form",
        "id": "OGtE11woZ2Of"
      },
      "source": [
        "#@title install dependencies\n",
        "%%capture\n",
        "!pip install -q cognitive_complexity astunparse tabulate"
      ],
      "execution_count": null,
      "outputs": []
    },
    {
      "cell_type": "code",
      "metadata": {
        "cellView": "form",
        "id": "T59nhQTDabhV"
      },
      "source": [
        "#@title imports & utils\n",
        "import ast\n",
        "import astunparse\n",
        "from inspect import getsource\n",
        "from tabulate import tabulate\n",
        "from cognitive_complexity.api import get_cognitive_complexity_for_node\n",
        "from cognitive_complexity.utils.ast import has_recursive_calls, is_decorator, process_child_nodes, process_node_itself\n",
        "\n",
        "def get_cognitive_complexity(func):\n",
        "    func = func if isinstance(func, str) else getsource(func)\n",
        "    funcdef = ast.parse(func).body[0]\n",
        "    if is_decorator(funcdef):\n",
        "        return get_cognitive_complexity(funcdef.body[0])\n",
        "\n",
        "    details = []\n",
        "    complexity = 0\n",
        "    for node in funcdef.body:\n",
        "        node_complexity = get_cognitive_complexity_for_node(node)\n",
        "        complexity += node_complexity\n",
        "        node_code = astunparse.unparse(node)\n",
        "        if f\"{funcdef.name}(\" in node_code: # +1 for recursion\n",
        "            node_complexity += 1\n",
        "            complexity += 1\n",
        "        details.append([node_complexity, node_code])\n",
        "    details.append([complexity, \"Total\"])\n",
        "    return complexity, details"
      ],
      "execution_count": null,
      "outputs": []
    },
    {
      "cell_type": "markdown",
      "metadata": {
        "id": "w4CYS8zcQ3oK"
      },
      "source": [
        "# Cognitive complexity"
      ]
    },
    {
      "cell_type": "code",
      "metadata": {
        "colab": {
          "base_uri": "https://localhost:8080/"
        },
        "id": "pEpt2PaJb2gX",
        "outputId": "6a35c858-9ec4-4cb9-826a-3c46120747d1"
      },
      "source": [
        "def f(n):\n",
        "    if n > 10:\n",
        "        return True\n",
        "    \n",
        "    if n < 5:\n",
        "        return 20\n",
        "    else:\n",
        "        return 2\n",
        "    return f(n)\n",
        "\n",
        "total, details = get_cognitive_complexity(f)\n",
        "print(tabulate(details, headers=[\"Complexity\", \"Node\"], tablefmt=\"fancy_grid\"))"
      ],
      "execution_count": null,
      "outputs": [
        {
          "output_type": "stream",
          "text": [
            "╒══════════════╤═════════════════╕\n",
            "│   Complexity │ Node            │\n",
            "╞══════════════╪═════════════════╡\n",
            "│            1 │ if (n > 10):    │\n",
            "│              │     return True │\n",
            "├──────────────┼─────────────────┤\n",
            "│            2 │ if (n < 5):     │\n",
            "│              │     return 20   │\n",
            "│              │ else:           │\n",
            "│              │     return 2    │\n",
            "├──────────────┼─────────────────┤\n",
            "│            1 │ return f(n)     │\n",
            "├──────────────┼─────────────────┤\n",
            "│            4 │ Total           │\n",
            "╘══════════════╧═════════════════╛\n"
          ],
          "name": "stdout"
        }
      ]
    },
    {
      "cell_type": "markdown",
      "metadata": {
        "id": "_64GReVbJj1z"
      },
      "source": [
        "# References\n",
        "\n",
        "* [Cognitive Complexity, Because Testability != Understandability](https://blog.sonarsource.com/cognitive-complexity-because-testability-understandability)\n",
        "\n",
        "* [Cognitive Complexity: A new way of measuring understandability, white paper by G. Ann Campbell](https://www.sonarsource.com/docs/CognitiveComplexity.pdf)\n",
        "\n",
        "* [Cognitive Complexity: the New Guide to Refactoring for Maintainable Code](https://www.youtube.com/watch?v=5C6AGTlKSjY)\n",
        "\n",
        "* [Cognitive Complexity from CodeClimate docs](https://docs.codeclimate.com/docs/cognitive-complexity)\n",
        "\n",
        "* [Is Your Code Readable By Humans? Cognitive Complexity Tells You](https://www.tomasvotruba.cz/blog/2018/05/21/is-your-code-readable-by-humans-cognitive-complexity-tells-you/)"
      ]
    }
  ]
}