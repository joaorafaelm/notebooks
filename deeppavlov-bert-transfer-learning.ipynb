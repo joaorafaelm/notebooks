{
  "nbformat": 4,
  "nbformat_minor": 0,
  "metadata": {
    "colab": {
      "name": "DeepPavlov_BERT_transfer_learning.ipynb",
      "provenance": [],
      "include_colab_link": true
    },
    "language_info": {
      "codemirror_mode": {
        "name": "ipython",
        "version": 3
      },
      "file_extension": ".py",
      "mimetype": "text/x-python",
      "name": "python",
      "nbconvert_exporter": "python",
      "pygments_lexer": "ipython3",
      "version": "3.6.7"
    },
    "kernelspec": {
      "display_name": "Python 3",
      "language": "python",
      "name": "python3"
    },
    "accelerator": "GPU"
  },
  "cells": [
    {
      "cell_type": "markdown",
      "metadata": {
        "id": "view-in-github",
        "colab_type": "text"
      },
      "source": [
        "<a href=\"https://colab.research.google.com/github/joaorafaelm/notebooks/blob/master/DeepPavlov_BERT_transfer_learning.ipynb\" target=\"_parent\"><img src=\"https://colab.research.google.com/assets/colab-badge.svg\" alt=\"Open In Colab\"/></a>"
      ]
    },
    {
      "cell_type": "code",
      "metadata": {
        "id": "Mwzl_A0MDJ2v",
        "colab_type": "code",
        "colab": {}
      },
      "source": [
        "! pip install -qq deeppavlov"
      ],
      "execution_count": 1,
      "outputs": []
    },
    {
      "cell_type": "markdown",
      "metadata": {
        "colab_type": "text",
        "id": "b4H6QeKM4UA2"
      },
      "source": [
        "## Zero-shot Transfer from English to 103 languages\n",
        "\n",
        "BERT model was originaly trained only for English language, but lately multilingual model trained on 103 was released. It gives ability to train models on language and use them for 103 other language. This technique is called zero-shot transfer as we don't use any training data for target language.\n",
        "\n",
        "We will cover two examples:\n",
        " * NER transfer from Ontonotes dataset (English -> 103)\n",
        " * QA transfer from SQuAD dataset (English -> 103)\n",
        " \n",
        " These models are also available at [demo.ipavlov.ai](https://demo.ipavlov.ai/#multiLang)"
      ]
    },
    {
      "cell_type": "markdown",
      "metadata": {
        "id": "S1iqGcxUINyU",
        "colab_type": "text"
      },
      "source": [
        "### Zero-shot multilingual NER\n",
        "\n",
        "Download and interact the model:"
      ]
    },
    {
      "cell_type": "code",
      "metadata": {
        "colab_type": "code",
        "id": "B3Is4zK17hT3",
        "colab": {}
      },
      "source": [
        "from deeppavlov import build_model, configs\n",
        "\n",
        "model = build_model(configs.ner.ner_ontonotes_bert_mult, download=True)"
      ],
      "execution_count": null,
      "outputs": []
    },
    {
      "cell_type": "code",
      "metadata": {
        "id": "ulkp8sO-KBdw",
        "colab_type": "code",
        "colab": {
          "base_uri": "https://localhost:8080/",
          "height": 34
        },
        "outputId": "3a686101-35a4-4669-9b09-90cad56dd7f8"
      },
      "source": [
        "model(['Curling World Championship will be held in Antananarivo'])"
      ],
      "execution_count": 4,
      "outputs": [
        {
          "output_type": "execute_result",
          "data": {
            "text/plain": [
              "[[['hoje', 'eu', 'vou', 'ao', 'mercado']], [['O', 'O', 'O', 'O', 'O']]]"
            ]
          },
          "metadata": {
            "tags": []
          },
          "execution_count": 4
        }
      ]
    },
    {
      "cell_type": "markdown",
      "metadata": {
        "id": "vz6zYu9YISho",
        "colab_type": "text"
      },
      "source": [
        "### Zero-shot multilingual QA\n",
        "Get configuration file, download and interact the model:\n"
      ]
    },
    {
      "cell_type": "code",
      "metadata": {
        "colab_type": "code",
        "id": "iS2_pO7B4UBB",
        "colab": {
          "base_uri": "https://localhost:8080/",
          "height": 208
        },
        "outputId": "7f518f61-766f-4ec0-f481-fa2895f182b6"
      },
      "source": [
        "! wget https://raw.githubusercontent.com/deepmipt/DeepPavlov/squad_multilingual_configs/deeppavlov/configs/squad/squad_bert_multilingual_freezed_emb.json"
      ],
      "execution_count": 5,
      "outputs": [
        {
          "output_type": "stream",
          "text": [
            "--2020-08-30 03:40:10--  https://raw.githubusercontent.com/deepmipt/DeepPavlov/squad_multilingual_configs/deeppavlov/configs/squad/squad_bert_multilingual_freezed_emb.json\n",
            "Resolving raw.githubusercontent.com (raw.githubusercontent.com)... 151.101.0.133, 151.101.64.133, 151.101.128.133, ...\n",
            "Connecting to raw.githubusercontent.com (raw.githubusercontent.com)|151.101.0.133|:443... connected.\n",
            "HTTP request sent, awaiting response... 200 OK\n",
            "Length: 3538 (3.5K) [text/plain]\n",
            "Saving to: ‘squad_bert_multilingual_freezed_emb.json.1’\n",
            "\n",
            "squad_bert_multilin 100%[===================>]   3.46K  --.-KB/s    in 0s      \n",
            "\n",
            "2020-08-30 03:40:11 (73.4 MB/s) - ‘squad_bert_multilingual_freezed_emb.json.1’ saved [3538/3538]\n",
            "\n"
          ],
          "name": "stdout"
        }
      ]
    },
    {
      "cell_type": "code",
      "metadata": {
        "id": "1HR1z0rdLwWK",
        "colab_type": "code",
        "colab": {
          "base_uri": "https://localhost:8080/",
          "height": 225
        },
        "outputId": "b39b993a-f84a-43f9-b984-ef464c1b75f3"
      },
      "source": [
        "from deeppavlov import build_model, configs\n",
        "\n",
        "model = build_model('./squad_bert_multilingual_freezed_emb.json', download=True)"
      ],
      "execution_count": null,
      "outputs": [
        {
          "output_type": "stream",
          "text": [
            "2020-08-30 03:40:17.223 INFO in 'deeppavlov.download'['download'] at line 132: Skipped http://files.deeppavlov.ai/deeppavlov_data/bert/multi_cased_L-12_H-768_A-12.zip download because of matching hashes\n",
            "2020-08-30 03:40:37.400 INFO in 'deeppavlov.download'['download'] at line 132: Skipped http://files.deeppavlov.ai/deeppavlov_data/squad_bert_mult_freezed.tar.gz download because of matching hashes\n"
          ],
          "name": "stderr"
        },
        {
          "output_type": "stream",
          "text": [
            "WARNING:tensorflow:From /usr/local/lib/python3.6/dist-packages/deeppavlov/models/bert/bert_squad.py:154: The name tf.matrix_band_part is deprecated. Please use tf.linalg.band_part instead.\n",
            "\n",
            "WARNING:tensorflow:From /usr/local/lib/python3.6/dist-packages/deeppavlov/models/bert/bert_squad.py:166: softmax_cross_entropy_with_logits (from tensorflow.python.ops.nn_ops) is deprecated and will be removed in a future version.\n",
            "Instructions for updating:\n",
            "\n",
            "Future major versions of TensorFlow will allow gradients to flow\n",
            "into the labels input on backprop by default.\n",
            "\n",
            "See `tf.nn.softmax_cross_entropy_with_logits_v2`.\n",
            "\n"
          ],
          "name": "stdout"
        }
      ]
    },
    {
      "cell_type": "code",
      "metadata": {
        "colab_type": "code",
        "id": "SBQ1GW9o4UBF",
        "colab": {}
      },
      "source": [
        "model(['Su área de distribución comprende casi toda Sudamérica al este de los Andes en las \\\n",
        "       cuencas del río Orinoco, del Amazonas y del Río de la Plata; cubriendo desde el este \\\n",
        "       de Venezuela y la Guyana hasta Uruguay y el norte y centro de Argentina. Pueden vivir \\\n",
        "       en diferentes tipos de hábitat, pero muestran preferencia por algunos en concreto. \\\n",
        "       Suelen encontrarse cerca de lagos, ríos, marismas o manglares.'], \n",
        "      ['What countries do capybara live in?'])"
      ],
      "execution_count": null,
      "outputs": []
    },
    {
      "cell_type": "markdown",
      "metadata": {
        "id": "nWmfrH18NVat",
        "colab_type": "text"
      },
      "source": [
        "As you can see model can work even if context and question languages are different!"
      ]
    },
    {
      "cell_type": "markdown",
      "metadata": {
        "id": "i0wKUr1rNe78",
        "colab_type": "text"
      },
      "source": [
        "### Zero-shot transfer performance\n",
        "\n",
        "Results for Zero-Shot NER from English to Russian:\n",
        "\n",
        "| model                            | Overall (Span F-1)   | PER (Span F-1)    | LOC (Span F-1)   | ORG (Span F-1) |\n",
        "|----------------------------------|-------|----------|----|----|\n",
        "| RuBERT NER | 97.7 |98.3   | 99.7 | 94.9|\n",
        "| Zero-shot Multilingual BERT NER   | 79.4 | 95.7   |82.6 | 55.7|\n",
        "\n",
        "Results for Zero-Shot QA from English to Russian:\n",
        "\n",
        "| model                            | F-1   |\n",
        "|----------------------------------|-------|\n",
        "| RuBERT QA | 84.6 |\n",
        "| Zero-shot Multilingual BERT QA   | 77.36 |\n",
        "\n",
        "Results for Zero-Shot QA from Russian to English:\n",
        "\n",
        "| model                            | F-1   |\n",
        "|----------------------------------|-------|\n",
        "| BERT QA | 88.49 |\n",
        "| Zero-shot Multilingual BERT QA   | 75.26 |"
      ]
    }
  ]
}